{
  "cells": [
    {
      "cell_type": "code",
      "execution_count": 1,
      "metadata": {
        "id": "wEKedg3zlr9W"
      },
      "outputs": [],
      "source": [
        "import numpy as np\n",
        "import pandas as pd\n",
        "from sklearn.model_selection import train_test_split\n",
        "import seaborn as sns\n",
        "import matplotlib.pyplot as plt\n"
      ]
    },
    {
      "cell_type": "code",
      "execution_count": 2,
      "metadata": {
        "id": "szr0-dPFxtTt"
      },
      "outputs": [],
      "source": [
        "from sklearn.tree import DecisionTreeClassifier\n",
        "from sklearn.tree import export_graphviz\n",
        "import graphviz"
      ]
    },
    {
      "cell_type": "code",
      "execution_count": 3,
      "metadata": {
        "id": "PFR4ncemfixR"
      },
      "outputs": [],
      "source": [
        "from sklearn.linear_model import LogisticRegression\n",
        "from scipy.special import expit"
      ]
    },
    {
      "cell_type": "code",
      "execution_count": 4,
      "metadata": {
        "id": "ozLOyHAilPmP"
      },
      "outputs": [],
      "source": [
        "from sklearn import svm"
      ]
    },
    {
      "cell_type": "code",
      "source": [
        "#validation\n",
        "#use randomized search cross validation for hyperparameter tunning\n",
        "from sklearn .model_selection import RandomizedSearchCV\n",
        "from sklearn.model_selection import GridSearchCV"
      ],
      "metadata": {
        "id": "RkkcYjBfDAZ9"
      },
      "execution_count": 5,
      "outputs": []
    },
    {
      "cell_type": "code",
      "execution_count": 6,
      "metadata": {
        "colab": {
          "base_uri": "https://localhost:8080/",
          "height": 0
        },
        "id": "qvEzlAZCyR1E",
        "outputId": "0fee7f49-44e1-4dc5-ac81-f92fa1369cae",
        "scrolled": false
      },
      "outputs": [
        {
          "output_type": "stream",
          "name": "stdout",
          "text": [
            "<class 'pandas.core.frame.DataFrame'>\n",
            "RangeIndex: 698 entries, 0 to 697\n",
            "Data columns (total 11 columns):\n",
            " #   Column   Non-Null Count  Dtype \n",
            "---  ------   --------------  ----- \n",
            " 0   1000025  698 non-null    int64 \n",
            " 1   5        698 non-null    int64 \n",
            " 2   1        698 non-null    int64 \n",
            " 3   1.1      698 non-null    int64 \n",
            " 4   1.2      698 non-null    int64 \n",
            " 5   2        698 non-null    int64 \n",
            " 6   1.3      698 non-null    object\n",
            " 7   3        698 non-null    int64 \n",
            " 8   1.4      698 non-null    int64 \n",
            " 9   1.5      698 non-null    int64 \n",
            " 10  2.1      698 non-null    int64 \n",
            "dtypes: int64(10), object(1)\n",
            "memory usage: 60.1+ KB\n"
          ]
        }
      ],
      "source": [
        "df=pd.read_csv('/content/breast-cancer-wisconsin.data')\n",
        "df.info()"
      ]
    },
    {
      "cell_type": "code",
      "execution_count": 7,
      "metadata": {
        "colab": {
          "base_uri": "https://localhost:8080/",
          "height": 0
        },
        "id": "2bKczguiHjjB",
        "outputId": "6124fda2-7613-4289-cc76-80bb7d76bad5"
      },
      "outputs": [
        {
          "output_type": "stream",
          "name": "stdout",
          "text": [
            "1000025    0\n",
            "5          0\n",
            "1          0\n",
            "1.1        0\n",
            "1.2        0\n",
            "2          0\n",
            "1.3        0\n",
            "3          0\n",
            "1.4        0\n",
            "1.5        0\n",
            "2.1        0\n",
            "dtype: int64\n"
          ]
        }
      ],
      "source": [
        "df=df.replace('?', np.nan)\n",
        "df_drop_column=df.dropna(axis=0)\n",
        "print(df_drop_column.isna().sum())"
      ]
    },
    {
      "cell_type": "code",
      "execution_count": 8,
      "metadata": {
        "id": "-Wfi9pb-yxW1"
      },
      "outputs": [],
      "source": [
        "df = df_drop_column.values.tolist()"
      ]
    },
    {
      "cell_type": "code",
      "execution_count": 9,
      "metadata": {
        "id": "z18Z-Usvzfms"
      },
      "outputs": [],
      "source": [
        "column_name=['Sample code number','Clump Thickness','Uniformity of Cell Size','Uniformity of Cell Shape','Marginal Adhesion','Single Epithelial Cell Size','Bare Nuclei','Bland Chromatin','Normal Nucleoli','Mitoses','Class']\n",
        "feature=['Clump Thickness','Uniformity of Cell Size','Uniformity of Cell Shape','Marginal Adhesion','Single Epithelial Cell Size','Bare Nuclei','Bland Chromatin','Normal Nucleoli','Mitoses']"
      ]
    },
    {
      "cell_type": "code",
      "execution_count": 10,
      "metadata": {
        "id": "ol8ymOAElyZQ"
      },
      "outputs": [],
      "source": [
        "#split data & split data by scaled one and not sclaed one"
      ]
    },
    {
      "cell_type": "code",
      "execution_count": 11,
      "metadata": {
        "colab": {
          "base_uri": "https://localhost:8080/",
          "height": 736
        },
        "id": "d4DAW5Sh0IAU",
        "outputId": "f09b6be5-3d71-47ac-fdb8-a1a40e33717f",
        "scrolled": true
      },
      "outputs": [
        {
          "output_type": "stream",
          "name": "stdout",
          "text": [
            "<class 'pandas.core.frame.DataFrame'>\n",
            "RangeIndex: 682 entries, 0 to 681\n",
            "Data columns (total 10 columns):\n",
            " #   Column                       Non-Null Count  Dtype\n",
            "---  ------                       --------------  -----\n",
            " 0   Clump Thickness              682 non-null    int64\n",
            " 1   Uniformity of Cell Size      682 non-null    int64\n",
            " 2   Uniformity of Cell Shape     682 non-null    int64\n",
            " 3   Marginal Adhesion            682 non-null    int64\n",
            " 4   Single Epithelial Cell Size  682 non-null    int64\n",
            " 5   Bare Nuclei                  682 non-null    int64\n",
            " 6   Bland Chromatin              682 non-null    int64\n",
            " 7   Normal Nucleoli              682 non-null    int64\n",
            " 8   Mitoses                      682 non-null    int64\n",
            " 9   Class                        682 non-null    int64\n",
            "dtypes: int64(10)\n",
            "memory usage: 53.4 KB\n"
          ]
        },
        {
          "output_type": "execute_result",
          "data": {
            "text/plain": [
              "     Clump Thickness  Uniformity of Cell Size  Uniformity of Cell Shape  \\\n",
              "0                  5                        4                         4   \n",
              "1                  3                        1                         1   \n",
              "2                  6                        8                         8   \n",
              "3                  4                        1                         1   \n",
              "4                  8                       10                        10   \n",
              "..               ...                      ...                       ...   \n",
              "677                3                        1                         1   \n",
              "678                2                        1                         1   \n",
              "679                5                       10                        10   \n",
              "680                4                        8                         6   \n",
              "681                4                        8                         8   \n",
              "\n",
              "     Marginal Adhesion  Single Epithelial Cell Size  Bare Nuclei  \\\n",
              "0                    5                            7           10   \n",
              "1                    1                            2            2   \n",
              "2                    1                            3            4   \n",
              "3                    3                            2            1   \n",
              "4                    8                            7           10   \n",
              "..                 ...                          ...          ...   \n",
              "677                  1                            3            2   \n",
              "678                  1                            2            1   \n",
              "679                  3                            7            3   \n",
              "680                  4                            3            4   \n",
              "681                  5                            4            5   \n",
              "\n",
              "     Bland Chromatin  Normal Nucleoli  Mitoses  Class  \n",
              "0                  3                2        1      2  \n",
              "1                  3                1        1      2  \n",
              "2                  3                7        1      2  \n",
              "3                  3                1        1      2  \n",
              "4                  9                7        1      4  \n",
              "..               ...              ...      ...    ...  \n",
              "677                1                1        1      2  \n",
              "678                1                1        1      2  \n",
              "679                8               10        2      4  \n",
              "680               10                6        1      4  \n",
              "681               10                4        1      4  \n",
              "\n",
              "[682 rows x 10 columns]"
            ],
            "text/html": [
              "\n",
              "  <div id=\"df-84ae08b8-06a3-4ed8-8c7a-6fa78fc316e7\">\n",
              "    <div class=\"colab-df-container\">\n",
              "      <div>\n",
              "<style scoped>\n",
              "    .dataframe tbody tr th:only-of-type {\n",
              "        vertical-align: middle;\n",
              "    }\n",
              "\n",
              "    .dataframe tbody tr th {\n",
              "        vertical-align: top;\n",
              "    }\n",
              "\n",
              "    .dataframe thead th {\n",
              "        text-align: right;\n",
              "    }\n",
              "</style>\n",
              "<table border=\"1\" class=\"dataframe\">\n",
              "  <thead>\n",
              "    <tr style=\"text-align: right;\">\n",
              "      <th></th>\n",
              "      <th>Clump Thickness</th>\n",
              "      <th>Uniformity of Cell Size</th>\n",
              "      <th>Uniformity of Cell Shape</th>\n",
              "      <th>Marginal Adhesion</th>\n",
              "      <th>Single Epithelial Cell Size</th>\n",
              "      <th>Bare Nuclei</th>\n",
              "      <th>Bland Chromatin</th>\n",
              "      <th>Normal Nucleoli</th>\n",
              "      <th>Mitoses</th>\n",
              "      <th>Class</th>\n",
              "    </tr>\n",
              "  </thead>\n",
              "  <tbody>\n",
              "    <tr>\n",
              "      <th>0</th>\n",
              "      <td>5</td>\n",
              "      <td>4</td>\n",
              "      <td>4</td>\n",
              "      <td>5</td>\n",
              "      <td>7</td>\n",
              "      <td>10</td>\n",
              "      <td>3</td>\n",
              "      <td>2</td>\n",
              "      <td>1</td>\n",
              "      <td>2</td>\n",
              "    </tr>\n",
              "    <tr>\n",
              "      <th>1</th>\n",
              "      <td>3</td>\n",
              "      <td>1</td>\n",
              "      <td>1</td>\n",
              "      <td>1</td>\n",
              "      <td>2</td>\n",
              "      <td>2</td>\n",
              "      <td>3</td>\n",
              "      <td>1</td>\n",
              "      <td>1</td>\n",
              "      <td>2</td>\n",
              "    </tr>\n",
              "    <tr>\n",
              "      <th>2</th>\n",
              "      <td>6</td>\n",
              "      <td>8</td>\n",
              "      <td>8</td>\n",
              "      <td>1</td>\n",
              "      <td>3</td>\n",
              "      <td>4</td>\n",
              "      <td>3</td>\n",
              "      <td>7</td>\n",
              "      <td>1</td>\n",
              "      <td>2</td>\n",
              "    </tr>\n",
              "    <tr>\n",
              "      <th>3</th>\n",
              "      <td>4</td>\n",
              "      <td>1</td>\n",
              "      <td>1</td>\n",
              "      <td>3</td>\n",
              "      <td>2</td>\n",
              "      <td>1</td>\n",
              "      <td>3</td>\n",
              "      <td>1</td>\n",
              "      <td>1</td>\n",
              "      <td>2</td>\n",
              "    </tr>\n",
              "    <tr>\n",
              "      <th>4</th>\n",
              "      <td>8</td>\n",
              "      <td>10</td>\n",
              "      <td>10</td>\n",
              "      <td>8</td>\n",
              "      <td>7</td>\n",
              "      <td>10</td>\n",
              "      <td>9</td>\n",
              "      <td>7</td>\n",
              "      <td>1</td>\n",
              "      <td>4</td>\n",
              "    </tr>\n",
              "    <tr>\n",
              "      <th>...</th>\n",
              "      <td>...</td>\n",
              "      <td>...</td>\n",
              "      <td>...</td>\n",
              "      <td>...</td>\n",
              "      <td>...</td>\n",
              "      <td>...</td>\n",
              "      <td>...</td>\n",
              "      <td>...</td>\n",
              "      <td>...</td>\n",
              "      <td>...</td>\n",
              "    </tr>\n",
              "    <tr>\n",
              "      <th>677</th>\n",
              "      <td>3</td>\n",
              "      <td>1</td>\n",
              "      <td>1</td>\n",
              "      <td>1</td>\n",
              "      <td>3</td>\n",
              "      <td>2</td>\n",
              "      <td>1</td>\n",
              "      <td>1</td>\n",
              "      <td>1</td>\n",
              "      <td>2</td>\n",
              "    </tr>\n",
              "    <tr>\n",
              "      <th>678</th>\n",
              "      <td>2</td>\n",
              "      <td>1</td>\n",
              "      <td>1</td>\n",
              "      <td>1</td>\n",
              "      <td>2</td>\n",
              "      <td>1</td>\n",
              "      <td>1</td>\n",
              "      <td>1</td>\n",
              "      <td>1</td>\n",
              "      <td>2</td>\n",
              "    </tr>\n",
              "    <tr>\n",
              "      <th>679</th>\n",
              "      <td>5</td>\n",
              "      <td>10</td>\n",
              "      <td>10</td>\n",
              "      <td>3</td>\n",
              "      <td>7</td>\n",
              "      <td>3</td>\n",
              "      <td>8</td>\n",
              "      <td>10</td>\n",
              "      <td>2</td>\n",
              "      <td>4</td>\n",
              "    </tr>\n",
              "    <tr>\n",
              "      <th>680</th>\n",
              "      <td>4</td>\n",
              "      <td>8</td>\n",
              "      <td>6</td>\n",
              "      <td>4</td>\n",
              "      <td>3</td>\n",
              "      <td>4</td>\n",
              "      <td>10</td>\n",
              "      <td>6</td>\n",
              "      <td>1</td>\n",
              "      <td>4</td>\n",
              "    </tr>\n",
              "    <tr>\n",
              "      <th>681</th>\n",
              "      <td>4</td>\n",
              "      <td>8</td>\n",
              "      <td>8</td>\n",
              "      <td>5</td>\n",
              "      <td>4</td>\n",
              "      <td>5</td>\n",
              "      <td>10</td>\n",
              "      <td>4</td>\n",
              "      <td>1</td>\n",
              "      <td>4</td>\n",
              "    </tr>\n",
              "  </tbody>\n",
              "</table>\n",
              "<p>682 rows × 10 columns</p>\n",
              "</div>\n",
              "      <button class=\"colab-df-convert\" onclick=\"convertToInteractive('df-84ae08b8-06a3-4ed8-8c7a-6fa78fc316e7')\"\n",
              "              title=\"Convert this dataframe to an interactive table.\"\n",
              "              style=\"display:none;\">\n",
              "        \n",
              "  <svg xmlns=\"http://www.w3.org/2000/svg\" height=\"24px\"viewBox=\"0 0 24 24\"\n",
              "       width=\"24px\">\n",
              "    <path d=\"M0 0h24v24H0V0z\" fill=\"none\"/>\n",
              "    <path d=\"M18.56 5.44l.94 2.06.94-2.06 2.06-.94-2.06-.94-.94-2.06-.94 2.06-2.06.94zm-11 1L8.5 8.5l.94-2.06 2.06-.94-2.06-.94L8.5 2.5l-.94 2.06-2.06.94zm10 10l.94 2.06.94-2.06 2.06-.94-2.06-.94-.94-2.06-.94 2.06-2.06.94z\"/><path d=\"M17.41 7.96l-1.37-1.37c-.4-.4-.92-.59-1.43-.59-.52 0-1.04.2-1.43.59L10.3 9.45l-7.72 7.72c-.78.78-.78 2.05 0 2.83L4 21.41c.39.39.9.59 1.41.59.51 0 1.02-.2 1.41-.59l7.78-7.78 2.81-2.81c.8-.78.8-2.07 0-2.86zM5.41 20L4 18.59l7.72-7.72 1.47 1.35L5.41 20z\"/>\n",
              "  </svg>\n",
              "      </button>\n",
              "      \n",
              "  <style>\n",
              "    .colab-df-container {\n",
              "      display:flex;\n",
              "      flex-wrap:wrap;\n",
              "      gap: 12px;\n",
              "    }\n",
              "\n",
              "    .colab-df-convert {\n",
              "      background-color: #E8F0FE;\n",
              "      border: none;\n",
              "      border-radius: 50%;\n",
              "      cursor: pointer;\n",
              "      display: none;\n",
              "      fill: #1967D2;\n",
              "      height: 32px;\n",
              "      padding: 0 0 0 0;\n",
              "      width: 32px;\n",
              "    }\n",
              "\n",
              "    .colab-df-convert:hover {\n",
              "      background-color: #E2EBFA;\n",
              "      box-shadow: 0px 1px 2px rgba(60, 64, 67, 0.3), 0px 1px 3px 1px rgba(60, 64, 67, 0.15);\n",
              "      fill: #174EA6;\n",
              "    }\n",
              "\n",
              "    [theme=dark] .colab-df-convert {\n",
              "      background-color: #3B4455;\n",
              "      fill: #D2E3FC;\n",
              "    }\n",
              "\n",
              "    [theme=dark] .colab-df-convert:hover {\n",
              "      background-color: #434B5C;\n",
              "      box-shadow: 0px 1px 3px 1px rgba(0, 0, 0, 0.15);\n",
              "      filter: drop-shadow(0px 1px 2px rgba(0, 0, 0, 0.3));\n",
              "      fill: #FFFFFF;\n",
              "    }\n",
              "  </style>\n",
              "\n",
              "      <script>\n",
              "        const buttonEl =\n",
              "          document.querySelector('#df-84ae08b8-06a3-4ed8-8c7a-6fa78fc316e7 button.colab-df-convert');\n",
              "        buttonEl.style.display =\n",
              "          google.colab.kernel.accessAllowed ? 'block' : 'none';\n",
              "\n",
              "        async function convertToInteractive(key) {\n",
              "          const element = document.querySelector('#df-84ae08b8-06a3-4ed8-8c7a-6fa78fc316e7');\n",
              "          const dataTable =\n",
              "            await google.colab.kernel.invokeFunction('convertToInteractive',\n",
              "                                                     [key], {});\n",
              "          if (!dataTable) return;\n",
              "\n",
              "          const docLinkHtml = 'Like what you see? Visit the ' +\n",
              "            '<a target=\"_blank\" href=https://colab.research.google.com/notebooks/data_table.ipynb>data table notebook</a>'\n",
              "            + ' to learn more about interactive tables.';\n",
              "          element.innerHTML = '';\n",
              "          dataTable['output_type'] = 'display_data';\n",
              "          await google.colab.output.renderOutput(dataTable, element);\n",
              "          const docLink = document.createElement('div');\n",
              "          docLink.innerHTML = docLinkHtml;\n",
              "          element.appendChild(docLink);\n",
              "        }\n",
              "      </script>\n",
              "    </div>\n",
              "  </div>\n",
              "  "
            ]
          },
          "metadata": {},
          "execution_count": 11
        }
      ],
      "source": [
        "df=pd.DataFrame(df,columns=column_name)\n",
        "df=df.drop(['Sample code number'],axis=1)\n",
        "#make object to int\n",
        "df=df.astype(int)\n",
        "df.info()\n",
        "df"
      ]
    },
    {
      "cell_type": "code",
      "execution_count": 12,
      "metadata": {
        "id": "RWmGe5F10yF0"
      },
      "outputs": [],
      "source": [
        "X=df.drop('Class',axis=1)\n",
        "Y=pd.DataFrame.copy(df['Class'])"
      ]
    },
    {
      "cell_type": "code",
      "execution_count": 13,
      "metadata": {
        "scrolled": false,
        "colab": {
          "base_uri": "https://localhost:8080/",
          "height": 0
        },
        "id": "swrfgjgqDh_7",
        "outputId": "df43d3ea-183e-436e-c880-85a6218fdd94"
      },
      "outputs": [
        {
          "output_type": "stream",
          "name": "stdout",
          "text": [
            "            0         1         2         3         4         5         6  \\\n",
            "0    0.198055  0.276120  0.261609  0.756767  1.693494  1.771179 -0.181965   \n",
            "1   -0.510993 -0.702981 -0.742617 -0.640026 -0.556142 -0.425083 -0.181965   \n",
            "2    0.552580  1.581587  1.600577 -0.640026 -0.106214  0.123983 -0.181965   \n",
            "3   -0.156469 -0.702981 -0.742617  0.058370 -0.556142 -0.699616 -0.181965   \n",
            "4    1.261629  2.234321  2.270061  1.804361  1.693494  1.771179  2.267377   \n",
            "..        ...       ...       ...       ...       ...       ...       ...   \n",
            "677 -0.510993 -0.702981 -0.742617 -0.640026 -0.106214 -0.425083 -0.998412   \n",
            "678 -0.865518 -0.702981 -0.742617 -0.640026 -0.556142 -0.699616 -0.998412   \n",
            "679  0.198055  2.234321  2.270061  0.058370  1.693494 -0.150550  1.859154   \n",
            "680 -0.156469  1.581587  0.931093  0.407569 -0.106214  0.123983  2.675601   \n",
            "681 -0.156469  1.581587  1.600577  0.756767  0.343713  0.398515  2.675601   \n",
            "\n",
            "            7         8  \n",
            "0   -0.285873 -0.348686  \n",
            "1   -0.613546 -0.348686  \n",
            "2    1.352491 -0.348686  \n",
            "3   -0.613546 -0.348686  \n",
            "4    1.352491 -0.348686  \n",
            "..        ...       ...  \n",
            "677 -0.613546 -0.348686  \n",
            "678 -0.613546 -0.348686  \n",
            "679  2.335509  0.228508  \n",
            "680  1.024818 -0.348686  \n",
            "681  0.369473 -0.348686  \n",
            "\n",
            "[682 rows x 9 columns]\n"
          ]
        }
      ],
      "source": [
        "from sklearn.preprocessing import StandardScaler\n",
        "\n",
        "scaler = StandardScaler()\n",
        "scaler.fit(X)\n",
        "X_scaled = scaler.transform(X)\n",
        "X_scaled = pd.DataFrame(X_scaled)\n",
        "print(X_scaled)"
      ]
    },
    {
      "cell_type": "code",
      "execution_count": 14,
      "metadata": {
        "id": "0bHQsv80l-DQ"
      },
      "outputs": [],
      "source": [
        "x_train, x_test, y_train, y_test = train_test_split(X, Y, test_size=0.3, random_state=10)\n",
        "x_scaled_train, x_scaled_test, y_train, y_test = train_test_split(X_scaled, Y, test_size=0.3, random_state=10)"
      ]
    },
    {
      "cell_type": "code",
      "execution_count": 15,
      "metadata": {
        "id": "Gqpmy_9nF_Fq"
      },
      "outputs": [],
      "source": [
        "target_name=np.array(['benign','malignant'])"
      ]
    },
    {
      "cell_type": "code",
      "source": [
        "def giantFunction(scaledData,notScaledData):\n",
        "    def testScore(model, x_test):\n",
        "        score=model.score(x_test,y_test)\n",
        "        return score\n",
        "\n",
        "    def makeTree(model):\n",
        "        export_graphviz(model,out_file='tree.dot',feature_names=feature,\n",
        "                    class_names=target_name,filled=True)\n",
        "        with open('tree.dot') as f:\n",
        "           graph = f.read()\n",
        "        return graphviz.Source(graph)\n",
        "\n",
        "    def decisionTreeGini(x_train,y_train):\n",
        "        model=DecisionTreeClassifier(criterion='gini')\n",
        "        model.fit(x_train,y_train)\n",
        "        return model\n",
        "\n",
        "    def decisionTreeEntropy(x_train,y_train):\n",
        "        model=DecisionTreeClassifier(criterion='entropy')\n",
        "        model.fit(x_train,y_train)\n",
        "        return model\n",
        "\n",
        "    def logisticReg(x_train,y_train):\n",
        "        model=LogisticRegression()\n",
        "        model.fit(x_train,y_train)\n",
        "        return model\n",
        "\n",
        "    def supportvecterLinear(x_train,y_train):\n",
        "        model=svm.SVC(kernel='linear')\n",
        "        model.fit(x_train,y_train)\n",
        "        return model\n",
        "\n",
        "    def supportvecterRbf(x_train,y_train):\n",
        "        model=svm.SVC(kernel='rbf')\n",
        "        model.fit(x_train,y_train)\n",
        "        return model\n",
        "\n",
        "    def decisionTreeHyperParameterTunning(x_train):\n",
        "        dt = DecisionTreeClassifier()\n",
        "        param_grid = {\n",
        "        'max_depth': [2,3,4,5,6,7,8],\n",
        "        'max_leaf_nodes': [3, 5, 7, 9, 10,15,20],\n",
        "        'criterion':['entropy', 'gini']\n",
        "       }\n",
        "        n_iter = 15\n",
        "        random_search = RandomizedSearchCV(dt,\n",
        "                                      param_distributions = param_grid,\n",
        "                                      n_iter = n_iter,\n",
        "                                      cv = 5,\n",
        "                                      random_state = 3)\n",
        "        random_search.fit(x_train, y_train)\n",
        "        return random_search\n",
        "\n",
        "    def logisticRegressionHyperParameterTunning(x_train):\n",
        "        logisticRegressionModel = LogisticRegression()\n",
        "        param_grid = {\n",
        "           'C': [0.001, 0.01, 0.1, 1, 10, 100]\n",
        "       }\n",
        "        grid_search = GridSearchCV(logisticRegressionModel,\n",
        "                                     param_grid = param_grid,\n",
        "                                      cv = 5)\n",
        "        grid_search.fit(x_train, y_train)\n",
        "        return grid_search\n",
        "\n",
        "    def svmHyperParameterTunning(x_train):\n",
        "        svmTunning = svm.SVC()\n",
        "        param_grid = {\n",
        "            'C': [0.001, 0.01, 0.1, 1, 10, 100],\n",
        "            'gamma': [1, 0.1, 0.01, 0.001]\n",
        "        }\n",
        "        n_iter = 10\n",
        "        random_search = RandomizedSearchCV(svmTunning,\n",
        "                                      param_distributions = param_grid,\n",
        "                                      n_iter = n_iter,\n",
        "                                      cv = 5,\n",
        "                                      random_state = 3)\n",
        "        random_search.fit(x_train, y_train)\n",
        "        return random_search\n",
        "\n",
        "    dtModelGini = decisionTreeGini(x_train,y_train)\n",
        "    dtModelGiniScaled = decisionTreeGini(x_scaled_train,y_train)\n",
        "    print(\"Score of decision Tree use Gini is\",testScore(dtModelGini, x_test))\n",
        "    print(\"Score of decision Tree use Gini and scaled data is\",testScore(dtModelGiniScaled, x_scaled_test))\n",
        "    print()\n",
        "\n",
        "    dtModelEntropy = decisionTreeEntropy(x_train, y_train)\n",
        "    dtModelEntropyScaled = decisionTreeEntropy(x_scaled_train, y_train)\n",
        "    print(\"Score of decision Tree use Entropy is\",testScore(dtModelEntropy, x_test))\n",
        "    print(\"Score of decision Tree use Entropy and scaled data is\",testScore(dtModelEntropyScaled, x_scaled_test))\n",
        "    print()\n",
        "\n",
        "    logisticRegressionModel = logisticReg(x_train, y_train)\n",
        "    logisticRegressionModelScaled = logisticReg(x_scaled_train, y_train)\n",
        "    print(\"Score of logistic regression is\",testScore(logisticRegressionModel, x_test))\n",
        "    print(\"Score of logistic regression with scaled data is\",testScore(logisticRegressionModelScaled, x_scaled_test))\n",
        "    print()\n",
        "\n",
        "\n",
        "    svmLinear = supportvecterLinear(x_train,y_train)\n",
        "    svmLinearScaled = supportvecterLinear(x_scaled_train,y_train)\n",
        "    print(\"Score of svm with linear is\",testScore(svmLinear, x_test))\n",
        "    print(\"Score of svm with linear and scaled data is\",testScore(svmLinearScaled, x_scaled_test))\n",
        "    print()\n",
        "\n",
        "    svmRBF = supportvecterRbf(x_train,y_train)\n",
        "    svmRBFScaled = supportvecterRbf(x_scaled_train,y_train)\n",
        "    print(\"Score of svm with RBF is\",testScore(svmRBF, x_test))\n",
        "    print(\"Score of svm with RBF and scaled data is\",testScore(svmRBFScaled, x_scaled_test))\n",
        "    print()\n",
        "\n",
        "\n",
        "    #decision tree hyperparameter tunning\n",
        "    dtModel = decisionTreeHyperParameterTunning(x_train)\n",
        "    print('best parameters of decision tree : ', dtModel.best_params_)\n",
        "    bestModel = dtModel.best_estimator_\n",
        "    print('best_score of decisionTree tree: ', testScore(bestModel, x_test))\n",
        "    print()\n",
        "\n",
        "    #decision tree hyperparameter tunning with scaled data\n",
        "    dtModelScaled = decisionTreeHyperParameterTunning(x_scaled_train)\n",
        "    print('best parameters of decision tree with scaled data: ', dtModelScaled.best_params_)\n",
        "    bestModelScaled = dtModelScaled.best_estimator_\n",
        "    print('best_score of decisionTree with scaled data: ', testScore(bestModelScaled, x_scaled_test))\n",
        "    print()\n",
        "\n",
        "    print('best decision tree')\n",
        "    bestDecision=DecisionTreeClassifier(max_leaf_nodes=dtModel.best_params_['max_leaf_nodes'],max_depth=dtModel.best_params_['max_depth'],criterion=dtModel.best_params_['criterion'])\n",
        "    bestDecision.fit(x_train,y_train)\n",
        "    display(makeTree(bestDecision))\n",
        "    print()\n",
        "\n",
        "    print('best decision tree with scaled data')\n",
        "    bestDecisionScaled=DecisionTreeClassifier(max_leaf_nodes=dtModelScaled.best_params_['max_leaf_nodes'],max_depth=dtModelScaled.best_params_['max_depth'],criterion=dtModelScaled.best_params_['criterion'])\n",
        "    bestDecisionScaled.fit(x_train,y_train)\n",
        "    display(makeTree(bestDecisionScaled))\n",
        "\n",
        "    #logistic regression hyperparameter tunning\n",
        "    logisticRegressionModel = logisticRegressionHyperParameterTunning(x_train)\n",
        "    print('best parameters of logistic regression : ', logisticRegressionModel.best_params_)\n",
        "    bestModel = logisticRegressionModel.best_estimator_\n",
        "    print('best_score of logistic regression : ', testScore(bestModel, x_test))\n",
        "    print()\n",
        "    #logistic regression hyperparameter tunning with scled data\n",
        "    logisticRegressionModelScaled = logisticRegressionHyperParameterTunning(x_scaled_train)\n",
        "    print('best parameters of logistic regression with scaled data: ', logisticRegressionModelScaled.best_params_)\n",
        "    bestModelScaled = logisticRegressionModelScaled.best_estimator_\n",
        "    print('best_score of logistic regression : ', testScore(bestModelScaled, x_scaled_test))\n",
        "    print()\n",
        "\n",
        "\n",
        "    #svm hyperparameter tunning\n",
        "    svmTunning1 = svmHyperParameterTunning(x_train)\n",
        "    print('best parameters of svm : ', svmTunning1.best_params_)\n",
        "    bestModel = svmTunning1.best_estimator_\n",
        "    print('best_score of svm :', testScore(bestModel, x_test))\n",
        "    print()\n",
        "    #svm with scaled data hyperparameter tunning\n",
        "    svmTunningScaled = svmHyperParameterTunning(x_scaled_train)\n",
        "    print('best parameters of svm with scaled data : ', svmTunningScaled.best_params_)\n",
        "    bestModelScaled = svmTunningScaled.best_estimator_\n",
        "    print('best_score of svm with scaled data:', testScore(bestModelScaled, x_scaled_test))\n",
        "    return \n",
        "\n",
        "\n",
        "\n",
        "      \n",
        "    "
      ],
      "metadata": {
        "id": "pFaujuQf_zBN"
      },
      "execution_count": 45,
      "outputs": []
    },
    {
      "cell_type": "code",
      "source": [
        "giantFunction(x_train,x_scaled_test)"
      ],
      "metadata": {
        "colab": {
          "base_uri": "https://localhost:8080/",
          "height": 1000
        },
        "id": "Za7YJX0ZCluU",
        "outputId": "3856d027-22bb-4fb2-d008-c06cbba6f0da"
      },
      "execution_count": 46,
      "outputs": [
        {
          "output_type": "stream",
          "name": "stdout",
          "text": [
            "Score of decision Tree use Gini is 0.9365853658536586\n",
            "Score of decision Tree use Gini and scaled data is 0.9512195121951219\n",
            "\n",
            "Score of decision Tree use Entropy is 0.9609756097560975\n",
            "Score of decision Tree use Entropy and scaled data is 0.9560975609756097\n",
            "\n",
            "Score of logistic regression is 0.975609756097561\n",
            "Score of logistic regression with scaled data is 0.975609756097561\n",
            "\n",
            "Score of svm with linear is 0.9804878048780488\n",
            "Score of svm with linear and scaled data is 0.9804878048780488\n",
            "\n",
            "Score of svm with RBF is 0.9804878048780488\n",
            "Score of svm with RBF and scaled data is 0.9804878048780488\n",
            "\n",
            "best parameters of decision tree :  {'max_leaf_nodes': 5, 'max_depth': 5, 'criterion': 'gini'}\n",
            "best_score of decisionTree tree:  0.9414634146341463\n",
            "\n",
            "best parameters of decision tree with scaled data:  {'max_leaf_nodes': 7, 'max_depth': 3, 'criterion': 'gini'}\n",
            "best_score of decisionTree with scaled data:  0.9560975609756097\n",
            "\n",
            "best decision tree\n"
          ]
        },
        {
          "output_type": "display_data",
          "data": {
            "text/plain": [
              "<graphviz.files.Source at 0x7f0ae05e3890>"
            ],
            "image/svg+xml": "<?xml version=\"1.0\" encoding=\"UTF-8\" standalone=\"no\"?>\n<!DOCTYPE svg PUBLIC \"-//W3C//DTD SVG 1.1//EN\"\n \"http://www.w3.org/Graphics/SVG/1.1/DTD/svg11.dtd\">\n<!-- Generated by graphviz version 2.40.1 (20161225.0304)\n -->\n<!-- Title: Tree Pages: 1 -->\n<svg width=\"685pt\" height=\"433pt\"\n viewBox=\"0.00 0.00 684.50 433.00\" xmlns=\"http://www.w3.org/2000/svg\" xmlns:xlink=\"http://www.w3.org/1999/xlink\">\n<g id=\"graph0\" class=\"graph\" transform=\"scale(1 1) rotate(0) translate(4 429)\">\n<title>Tree</title>\n<polygon fill=\"#ffffff\" stroke=\"transparent\" points=\"-4,4 -4,-429 680.5,-429 680.5,4 -4,4\"/>\n<!-- 0 -->\n<g id=\"node1\" class=\"node\">\n<title>0</title>\n<polygon fill=\"#f3c6a5\" stroke=\"#000000\" points=\"383,-425 181,-425 181,-342 383,-342 383,-425\"/>\n<text text-anchor=\"middle\" x=\"282\" y=\"-409.8\" font-family=\"Helvetica,sans-Serif\" font-size=\"14.00\" fill=\"#000000\">Uniformity of Cell Size &lt;= 2.5</text>\n<text text-anchor=\"middle\" x=\"282\" y=\"-394.8\" font-family=\"Helvetica,sans-Serif\" font-size=\"14.00\" fill=\"#000000\">gini = 0.456</text>\n<text text-anchor=\"middle\" x=\"282\" y=\"-379.8\" font-family=\"Helvetica,sans-Serif\" font-size=\"14.00\" fill=\"#000000\">samples = 477</text>\n<text text-anchor=\"middle\" x=\"282\" y=\"-364.8\" font-family=\"Helvetica,sans-Serif\" font-size=\"14.00\" fill=\"#000000\">value = [309, 168]</text>\n<text text-anchor=\"middle\" x=\"282\" y=\"-349.8\" font-family=\"Helvetica,sans-Serif\" font-size=\"14.00\" fill=\"#000000\">class = benign</text>\n</g>\n<!-- 1 -->\n<g id=\"node2\" class=\"node\">\n<title>1</title>\n<polygon fill=\"#e6853f\" stroke=\"#000000\" points=\"253,-306 117,-306 117,-223 253,-223 253,-306\"/>\n<text text-anchor=\"middle\" x=\"185\" y=\"-290.8\" font-family=\"Helvetica,sans-Serif\" font-size=\"14.00\" fill=\"#000000\">Bare Nuclei &lt;= 5.5</text>\n<text text-anchor=\"middle\" x=\"185\" y=\"-275.8\" font-family=\"Helvetica,sans-Serif\" font-size=\"14.00\" fill=\"#000000\">gini = 0.053</text>\n<text text-anchor=\"middle\" x=\"185\" y=\"-260.8\" font-family=\"Helvetica,sans-Serif\" font-size=\"14.00\" fill=\"#000000\">samples = 292</text>\n<text text-anchor=\"middle\" x=\"185\" y=\"-245.8\" font-family=\"Helvetica,sans-Serif\" font-size=\"14.00\" fill=\"#000000\">value = [284, 8]</text>\n<text text-anchor=\"middle\" x=\"185\" y=\"-230.8\" font-family=\"Helvetica,sans-Serif\" font-size=\"14.00\" fill=\"#000000\">class = benign</text>\n</g>\n<!-- 0&#45;&gt;1 -->\n<g id=\"edge1\" class=\"edge\">\n<title>0&#45;&gt;1</title>\n<path fill=\"none\" stroke=\"#000000\" d=\"M248.0741,-341.8796C240.8062,-332.9633 233.057,-323.4565 225.5672,-314.268\"/>\n<polygon fill=\"#000000\" stroke=\"#000000\" points=\"228.1018,-311.8379 219.0707,-306.2981 222.676,-316.2606 228.1018,-311.8379\"/>\n<text text-anchor=\"middle\" x=\"216.5375\" y=\"-327.4694\" font-family=\"Helvetica,sans-Serif\" font-size=\"14.00\" fill=\"#000000\">True</text>\n</g>\n<!-- 2 -->\n<g id=\"node5\" class=\"node\">\n<title>2</title>\n<polygon fill=\"#58ace9\" stroke=\"#000000\" points=\"487,-306 271,-306 271,-223 487,-223 487,-306\"/>\n<text text-anchor=\"middle\" x=\"379\" y=\"-290.8\" font-family=\"Helvetica,sans-Serif\" font-size=\"14.00\" fill=\"#000000\">Uniformity of Cell Shape &lt;= 2.5</text>\n<text text-anchor=\"middle\" x=\"379\" y=\"-275.8\" font-family=\"Helvetica,sans-Serif\" font-size=\"14.00\" fill=\"#000000\">gini = 0.234</text>\n<text text-anchor=\"middle\" x=\"379\" y=\"-260.8\" font-family=\"Helvetica,sans-Serif\" font-size=\"14.00\" fill=\"#000000\">samples = 185</text>\n<text text-anchor=\"middle\" x=\"379\" y=\"-245.8\" font-family=\"Helvetica,sans-Serif\" font-size=\"14.00\" fill=\"#000000\">value = [25, 160]</text>\n<text text-anchor=\"middle\" x=\"379\" y=\"-230.8\" font-family=\"Helvetica,sans-Serif\" font-size=\"14.00\" fill=\"#000000\">class = malignant</text>\n</g>\n<!-- 0&#45;&gt;2 -->\n<g id=\"edge4\" class=\"edge\">\n<title>0&#45;&gt;2</title>\n<path fill=\"none\" stroke=\"#000000\" d=\"M315.9259,-341.8796C323.1938,-332.9633 330.943,-323.4565 338.4328,-314.268\"/>\n<polygon fill=\"#000000\" stroke=\"#000000\" points=\"341.324,-316.2606 344.9293,-306.2981 335.8982,-311.8379 341.324,-316.2606\"/>\n<text text-anchor=\"middle\" x=\"347.4625\" y=\"-327.4694\" font-family=\"Helvetica,sans-Serif\" font-size=\"14.00\" fill=\"#000000\">False</text>\n</g>\n<!-- 5 -->\n<g id=\"node3\" class=\"node\">\n<title>5</title>\n<polygon fill=\"#e5823b\" stroke=\"#000000\" points=\"116,-179.5 0,-179.5 0,-111.5 116,-111.5 116,-179.5\"/>\n<text text-anchor=\"middle\" x=\"58\" y=\"-164.3\" font-family=\"Helvetica,sans-Serif\" font-size=\"14.00\" fill=\"#000000\">gini = 0.021</text>\n<text text-anchor=\"middle\" x=\"58\" y=\"-149.3\" font-family=\"Helvetica,sans-Serif\" font-size=\"14.00\" fill=\"#000000\">samples = 286</text>\n<text text-anchor=\"middle\" x=\"58\" y=\"-134.3\" font-family=\"Helvetica,sans-Serif\" font-size=\"14.00\" fill=\"#000000\">value = [283, 3]</text>\n<text text-anchor=\"middle\" x=\"58\" y=\"-119.3\" font-family=\"Helvetica,sans-Serif\" font-size=\"14.00\" fill=\"#000000\">class = benign</text>\n</g>\n<!-- 1&#45;&gt;5 -->\n<g id=\"edge2\" class=\"edge\">\n<title>1&#45;&gt;5</title>\n<path fill=\"none\" stroke=\"#000000\" d=\"M140.5816,-222.8796C128.1421,-211.2237 114.6257,-198.5587 102.199,-186.9148\"/>\n<polygon fill=\"#000000\" stroke=\"#000000\" points=\"104.3121,-184.0985 94.6218,-179.8149 99.5259,-189.2065 104.3121,-184.0985\"/>\n</g>\n<!-- 6 -->\n<g id=\"node4\" class=\"node\">\n<title>6</title>\n<polygon fill=\"#61b1ea\" stroke=\"#000000\" points=\"263.5,-179.5 134.5,-179.5 134.5,-111.5 263.5,-111.5 263.5,-179.5\"/>\n<text text-anchor=\"middle\" x=\"199\" y=\"-164.3\" font-family=\"Helvetica,sans-Serif\" font-size=\"14.00\" fill=\"#000000\">gini = 0.278</text>\n<text text-anchor=\"middle\" x=\"199\" y=\"-149.3\" font-family=\"Helvetica,sans-Serif\" font-size=\"14.00\" fill=\"#000000\">samples = 6</text>\n<text text-anchor=\"middle\" x=\"199\" y=\"-134.3\" font-family=\"Helvetica,sans-Serif\" font-size=\"14.00\" fill=\"#000000\">value = [1, 5]</text>\n<text text-anchor=\"middle\" x=\"199\" y=\"-119.3\" font-family=\"Helvetica,sans-Serif\" font-size=\"14.00\" fill=\"#000000\">class = malignant</text>\n</g>\n<!-- 1&#45;&gt;6 -->\n<g id=\"edge3\" class=\"edge\">\n<title>1&#45;&gt;6</title>\n<path fill=\"none\" stroke=\"#000000\" d=\"M189.8965,-222.8796C191.1514,-212.2134 192.5056,-200.7021 193.7763,-189.9015\"/>\n<polygon fill=\"#000000\" stroke=\"#000000\" points=\"197.2705,-190.1554 194.9629,-179.8149 190.3184,-189.3375 197.2705,-190.1554\"/>\n</g>\n<!-- 3 -->\n<g id=\"node6\" class=\"node\">\n<title>3</title>\n<polygon fill=\"#ea985d\" stroke=\"#000000\" points=\"420,-179.5 310,-179.5 310,-111.5 420,-111.5 420,-179.5\"/>\n<text text-anchor=\"middle\" x=\"365\" y=\"-164.3\" font-family=\"Helvetica,sans-Serif\" font-size=\"14.00\" fill=\"#000000\">gini = 0.26</text>\n<text text-anchor=\"middle\" x=\"365\" y=\"-149.3\" font-family=\"Helvetica,sans-Serif\" font-size=\"14.00\" fill=\"#000000\">samples = 13</text>\n<text text-anchor=\"middle\" x=\"365\" y=\"-134.3\" font-family=\"Helvetica,sans-Serif\" font-size=\"14.00\" fill=\"#000000\">value = [11, 2]</text>\n<text text-anchor=\"middle\" x=\"365\" y=\"-119.3\" font-family=\"Helvetica,sans-Serif\" font-size=\"14.00\" fill=\"#000000\">class = benign</text>\n</g>\n<!-- 2&#45;&gt;3 -->\n<g id=\"edge5\" class=\"edge\">\n<title>2&#45;&gt;3</title>\n<path fill=\"none\" stroke=\"#000000\" d=\"M374.1035,-222.8796C372.8486,-212.2134 371.4944,-200.7021 370.2237,-189.9015\"/>\n<polygon fill=\"#000000\" stroke=\"#000000\" points=\"373.6816,-189.3375 369.0371,-179.8149 366.7295,-190.1554 373.6816,-189.3375\"/>\n</g>\n<!-- 4 -->\n<g id=\"node7\" class=\"node\">\n<title>4</title>\n<polygon fill=\"#4ba6e7\" stroke=\"#000000\" points=\"640,-187 438,-187 438,-104 640,-104 640,-187\"/>\n<text text-anchor=\"middle\" x=\"539\" y=\"-171.8\" font-family=\"Helvetica,sans-Serif\" font-size=\"14.00\" fill=\"#000000\">Uniformity of Cell Size &lt;= 4.5</text>\n<text text-anchor=\"middle\" x=\"539\" y=\"-156.8\" font-family=\"Helvetica,sans-Serif\" font-size=\"14.00\" fill=\"#000000\">gini = 0.15</text>\n<text text-anchor=\"middle\" x=\"539\" y=\"-141.8\" font-family=\"Helvetica,sans-Serif\" font-size=\"14.00\" fill=\"#000000\">samples = 172</text>\n<text text-anchor=\"middle\" x=\"539\" y=\"-126.8\" font-family=\"Helvetica,sans-Serif\" font-size=\"14.00\" fill=\"#000000\">value = [14, 158]</text>\n<text text-anchor=\"middle\" x=\"539\" y=\"-111.8\" font-family=\"Helvetica,sans-Serif\" font-size=\"14.00\" fill=\"#000000\">class = malignant</text>\n</g>\n<!-- 2&#45;&gt;4 -->\n<g id=\"edge6\" class=\"edge\">\n<title>2&#45;&gt;4</title>\n<path fill=\"none\" stroke=\"#000000\" d=\"M434.9602,-222.8796C447.8708,-213.2774 461.7021,-202.9903 474.9282,-193.1534\"/>\n<polygon fill=\"#000000\" stroke=\"#000000\" points=\"477.1361,-195.8732 483.0714,-187.0969 472.9586,-190.2564 477.1361,-195.8732\"/>\n</g>\n<!-- 7 -->\n<g id=\"node8\" class=\"node\">\n<title>7</title>\n<polygon fill=\"#7fc0ee\" stroke=\"#000000\" points=\"529.5,-68 400.5,-68 400.5,0 529.5,0 529.5,-68\"/>\n<text text-anchor=\"middle\" x=\"465\" y=\"-52.8\" font-family=\"Helvetica,sans-Serif\" font-size=\"14.00\" fill=\"#000000\">gini = 0.386</text>\n<text text-anchor=\"middle\" x=\"465\" y=\"-37.8\" font-family=\"Helvetica,sans-Serif\" font-size=\"14.00\" fill=\"#000000\">samples = 46</text>\n<text text-anchor=\"middle\" x=\"465\" y=\"-22.8\" font-family=\"Helvetica,sans-Serif\" font-size=\"14.00\" fill=\"#000000\">value = [12, 34]</text>\n<text text-anchor=\"middle\" x=\"465\" y=\"-7.8\" font-family=\"Helvetica,sans-Serif\" font-size=\"14.00\" fill=\"#000000\">class = malignant</text>\n</g>\n<!-- 4&#45;&gt;7 -->\n<g id=\"edge7\" class=\"edge\">\n<title>4&#45;&gt;7</title>\n<path fill=\"none\" stroke=\"#000000\" d=\"M511.4451,-103.9815C505.5285,-95.0666 499.2665,-85.6313 493.3213,-76.6734\"/>\n<polygon fill=\"#000000\" stroke=\"#000000\" points=\"496.186,-74.6602 487.74,-68.2637 490.3536,-78.5311 496.186,-74.6602\"/>\n</g>\n<!-- 8 -->\n<g id=\"node9\" class=\"node\">\n<title>8</title>\n<polygon fill=\"#3c9fe5\" stroke=\"#000000\" points=\"676.5,-68 547.5,-68 547.5,0 676.5,0 676.5,-68\"/>\n<text text-anchor=\"middle\" x=\"612\" y=\"-52.8\" font-family=\"Helvetica,sans-Serif\" font-size=\"14.00\" fill=\"#000000\">gini = 0.031</text>\n<text text-anchor=\"middle\" x=\"612\" y=\"-37.8\" font-family=\"Helvetica,sans-Serif\" font-size=\"14.00\" fill=\"#000000\">samples = 126</text>\n<text text-anchor=\"middle\" x=\"612\" y=\"-22.8\" font-family=\"Helvetica,sans-Serif\" font-size=\"14.00\" fill=\"#000000\">value = [2, 124]</text>\n<text text-anchor=\"middle\" x=\"612\" y=\"-7.8\" font-family=\"Helvetica,sans-Serif\" font-size=\"14.00\" fill=\"#000000\">class = malignant</text>\n</g>\n<!-- 4&#45;&gt;8 -->\n<g id=\"edge8\" class=\"edge\">\n<title>4&#45;&gt;8</title>\n<path fill=\"none\" stroke=\"#000000\" d=\"M566.1825,-103.9815C572.0192,-95.0666 578.1966,-85.6313 584.0614,-76.6734\"/>\n<polygon fill=\"#000000\" stroke=\"#000000\" points=\"587.0179,-78.5472 589.5673,-68.2637 581.1614,-74.7129 587.0179,-78.5472\"/>\n</g>\n</g>\n</svg>\n"
          },
          "metadata": {}
        },
        {
          "output_type": "stream",
          "name": "stdout",
          "text": [
            "\n",
            "best decision tree with scaled data\n"
          ]
        },
        {
          "output_type": "display_data",
          "data": {
            "text/plain": [
              "<graphviz.files.Source at 0x7f0ae03d0a50>"
            ],
            "image/svg+xml": "<?xml version=\"1.0\" encoding=\"UTF-8\" standalone=\"no\"?>\n<!DOCTYPE svg PUBLIC \"-//W3C//DTD SVG 1.1//EN\"\n \"http://www.w3.org/Graphics/SVG/1.1/DTD/svg11.dtd\">\n<!-- Generated by graphviz version 2.40.1 (20161225.0304)\n -->\n<!-- Title: Tree Pages: 1 -->\n<svg width=\"885pt\" height=\"433pt\"\n viewBox=\"0.00 0.00 884.50 433.00\" xmlns=\"http://www.w3.org/2000/svg\" xmlns:xlink=\"http://www.w3.org/1999/xlink\">\n<g id=\"graph0\" class=\"graph\" transform=\"scale(1 1) rotate(0) translate(4 429)\">\n<title>Tree</title>\n<polygon fill=\"#ffffff\" stroke=\"transparent\" points=\"-4,4 -4,-429 880.5,-429 880.5,4 -4,4\"/>\n<!-- 0 -->\n<g id=\"node1\" class=\"node\">\n<title>0</title>\n<polygon fill=\"#f3c6a5\" stroke=\"#000000\" points=\"515,-425 313,-425 313,-342 515,-342 515,-425\"/>\n<text text-anchor=\"middle\" x=\"414\" y=\"-409.8\" font-family=\"Helvetica,sans-Serif\" font-size=\"14.00\" fill=\"#000000\">Uniformity of Cell Size &lt;= 2.5</text>\n<text text-anchor=\"middle\" x=\"414\" y=\"-394.8\" font-family=\"Helvetica,sans-Serif\" font-size=\"14.00\" fill=\"#000000\">gini = 0.456</text>\n<text text-anchor=\"middle\" x=\"414\" y=\"-379.8\" font-family=\"Helvetica,sans-Serif\" font-size=\"14.00\" fill=\"#000000\">samples = 477</text>\n<text text-anchor=\"middle\" x=\"414\" y=\"-364.8\" font-family=\"Helvetica,sans-Serif\" font-size=\"14.00\" fill=\"#000000\">value = [309, 168]</text>\n<text text-anchor=\"middle\" x=\"414\" y=\"-349.8\" font-family=\"Helvetica,sans-Serif\" font-size=\"14.00\" fill=\"#000000\">class = benign</text>\n</g>\n<!-- 1 -->\n<g id=\"node2\" class=\"node\">\n<title>1</title>\n<polygon fill=\"#e6853f\" stroke=\"#000000\" points=\"385,-306 249,-306 249,-223 385,-223 385,-306\"/>\n<text text-anchor=\"middle\" x=\"317\" y=\"-290.8\" font-family=\"Helvetica,sans-Serif\" font-size=\"14.00\" fill=\"#000000\">Bare Nuclei &lt;= 5.5</text>\n<text text-anchor=\"middle\" x=\"317\" y=\"-275.8\" font-family=\"Helvetica,sans-Serif\" font-size=\"14.00\" fill=\"#000000\">gini = 0.053</text>\n<text text-anchor=\"middle\" x=\"317\" y=\"-260.8\" font-family=\"Helvetica,sans-Serif\" font-size=\"14.00\" fill=\"#000000\">samples = 292</text>\n<text text-anchor=\"middle\" x=\"317\" y=\"-245.8\" font-family=\"Helvetica,sans-Serif\" font-size=\"14.00\" fill=\"#000000\">value = [284, 8]</text>\n<text text-anchor=\"middle\" x=\"317\" y=\"-230.8\" font-family=\"Helvetica,sans-Serif\" font-size=\"14.00\" fill=\"#000000\">class = benign</text>\n</g>\n<!-- 0&#45;&gt;1 -->\n<g id=\"edge1\" class=\"edge\">\n<title>0&#45;&gt;1</title>\n<path fill=\"none\" stroke=\"#000000\" d=\"M380.0741,-341.8796C372.8062,-332.9633 365.057,-323.4565 357.5672,-314.268\"/>\n<polygon fill=\"#000000\" stroke=\"#000000\" points=\"360.1018,-311.8379 351.0707,-306.2981 354.676,-316.2606 360.1018,-311.8379\"/>\n<text text-anchor=\"middle\" x=\"348.5375\" y=\"-327.4694\" font-family=\"Helvetica,sans-Serif\" font-size=\"14.00\" fill=\"#000000\">True</text>\n</g>\n<!-- 2 -->\n<g id=\"node7\" class=\"node\">\n<title>2</title>\n<polygon fill=\"#58ace9\" stroke=\"#000000\" points=\"619,-306 403,-306 403,-223 619,-223 619,-306\"/>\n<text text-anchor=\"middle\" x=\"511\" y=\"-290.8\" font-family=\"Helvetica,sans-Serif\" font-size=\"14.00\" fill=\"#000000\">Uniformity of Cell Shape &lt;= 2.5</text>\n<text text-anchor=\"middle\" x=\"511\" y=\"-275.8\" font-family=\"Helvetica,sans-Serif\" font-size=\"14.00\" fill=\"#000000\">gini = 0.234</text>\n<text text-anchor=\"middle\" x=\"511\" y=\"-260.8\" font-family=\"Helvetica,sans-Serif\" font-size=\"14.00\" fill=\"#000000\">samples = 185</text>\n<text text-anchor=\"middle\" x=\"511\" y=\"-245.8\" font-family=\"Helvetica,sans-Serif\" font-size=\"14.00\" fill=\"#000000\">value = [25, 160]</text>\n<text text-anchor=\"middle\" x=\"511\" y=\"-230.8\" font-family=\"Helvetica,sans-Serif\" font-size=\"14.00\" fill=\"#000000\">class = malignant</text>\n</g>\n<!-- 0&#45;&gt;2 -->\n<g id=\"edge6\" class=\"edge\">\n<title>0&#45;&gt;2</title>\n<path fill=\"none\" stroke=\"#000000\" d=\"M447.9259,-341.8796C455.1938,-332.9633 462.943,-323.4565 470.4328,-314.268\"/>\n<polygon fill=\"#000000\" stroke=\"#000000\" points=\"473.324,-316.2606 476.9293,-306.2981 467.8982,-311.8379 473.324,-316.2606\"/>\n<text text-anchor=\"middle\" x=\"479.4625\" y=\"-327.4694\" font-family=\"Helvetica,sans-Serif\" font-size=\"14.00\" fill=\"#000000\">False</text>\n</g>\n<!-- 5 -->\n<g id=\"node3\" class=\"node\">\n<title>5</title>\n<polygon fill=\"#e5823b\" stroke=\"#000000\" points=\"248.5,-187 75.5,-187 75.5,-104 248.5,-104 248.5,-187\"/>\n<text text-anchor=\"middle\" x=\"162\" y=\"-171.8\" font-family=\"Helvetica,sans-Serif\" font-size=\"14.00\" fill=\"#000000\">Clump Thickness &lt;= 6.5</text>\n<text text-anchor=\"middle\" x=\"162\" y=\"-156.8\" font-family=\"Helvetica,sans-Serif\" font-size=\"14.00\" fill=\"#000000\">gini = 0.021</text>\n<text text-anchor=\"middle\" x=\"162\" y=\"-141.8\" font-family=\"Helvetica,sans-Serif\" font-size=\"14.00\" fill=\"#000000\">samples = 286</text>\n<text text-anchor=\"middle\" x=\"162\" y=\"-126.8\" font-family=\"Helvetica,sans-Serif\" font-size=\"14.00\" fill=\"#000000\">value = [283, 3]</text>\n<text text-anchor=\"middle\" x=\"162\" y=\"-111.8\" font-family=\"Helvetica,sans-Serif\" font-size=\"14.00\" fill=\"#000000\">class = benign</text>\n</g>\n<!-- 1&#45;&gt;5 -->\n<g id=\"edge2\" class=\"edge\">\n<title>1&#45;&gt;5</title>\n<path fill=\"none\" stroke=\"#000000\" d=\"M262.7885,-222.8796C250.3994,-213.368 237.1351,-203.1843 224.4324,-193.432\"/>\n<polygon fill=\"#000000\" stroke=\"#000000\" points=\"226.2442,-190.4105 216.1809,-187.0969 221.9814,-195.9628 226.2442,-190.4105\"/>\n</g>\n<!-- 6 -->\n<g id=\"node6\" class=\"node\">\n<title>6</title>\n<polygon fill=\"#61b1ea\" stroke=\"#000000\" points=\"395.5,-179.5 266.5,-179.5 266.5,-111.5 395.5,-111.5 395.5,-179.5\"/>\n<text text-anchor=\"middle\" x=\"331\" y=\"-164.3\" font-family=\"Helvetica,sans-Serif\" font-size=\"14.00\" fill=\"#000000\">gini = 0.278</text>\n<text text-anchor=\"middle\" x=\"331\" y=\"-149.3\" font-family=\"Helvetica,sans-Serif\" font-size=\"14.00\" fill=\"#000000\">samples = 6</text>\n<text text-anchor=\"middle\" x=\"331\" y=\"-134.3\" font-family=\"Helvetica,sans-Serif\" font-size=\"14.00\" fill=\"#000000\">value = [1, 5]</text>\n<text text-anchor=\"middle\" x=\"331\" y=\"-119.3\" font-family=\"Helvetica,sans-Serif\" font-size=\"14.00\" fill=\"#000000\">class = malignant</text>\n</g>\n<!-- 1&#45;&gt;6 -->\n<g id=\"edge5\" class=\"edge\">\n<title>1&#45;&gt;6</title>\n<path fill=\"none\" stroke=\"#000000\" d=\"M321.8965,-222.8796C323.1514,-212.2134 324.5056,-200.7021 325.7763,-189.9015\"/>\n<polygon fill=\"#000000\" stroke=\"#000000\" points=\"329.2705,-190.1554 326.9629,-179.8149 322.3184,-189.3375 329.2705,-190.1554\"/>\n</g>\n<!-- 11 -->\n<g id=\"node4\" class=\"node\">\n<title>11</title>\n<polygon fill=\"#e5813a\" stroke=\"#000000\" points=\"116,-68 0,-68 0,0 116,0 116,-68\"/>\n<text text-anchor=\"middle\" x=\"58\" y=\"-52.8\" font-family=\"Helvetica,sans-Serif\" font-size=\"14.00\" fill=\"#000000\">gini = 0.007</text>\n<text text-anchor=\"middle\" x=\"58\" y=\"-37.8\" font-family=\"Helvetica,sans-Serif\" font-size=\"14.00\" fill=\"#000000\">samples = 283</text>\n<text text-anchor=\"middle\" x=\"58\" y=\"-22.8\" font-family=\"Helvetica,sans-Serif\" font-size=\"14.00\" fill=\"#000000\">value = [282, 1]</text>\n<text text-anchor=\"middle\" x=\"58\" y=\"-7.8\" font-family=\"Helvetica,sans-Serif\" font-size=\"14.00\" fill=\"#000000\">class = benign</text>\n</g>\n<!-- 5&#45;&gt;11 -->\n<g id=\"edge3\" class=\"edge\">\n<title>5&#45;&gt;11</title>\n<path fill=\"none\" stroke=\"#000000\" d=\"M123.2742,-103.9815C114.7018,-94.7908 105.6135,-85.0472 97.029,-75.8436\"/>\n<polygon fill=\"#000000\" stroke=\"#000000\" points=\"99.3393,-73.1891 89.9589,-68.2637 94.2204,-77.9637 99.3393,-73.1891\"/>\n</g>\n<!-- 12 -->\n<g id=\"node5\" class=\"node\">\n<title>12</title>\n<polygon fill=\"#9ccef2\" stroke=\"#000000\" points=\"263.5,-68 134.5,-68 134.5,0 263.5,0 263.5,-68\"/>\n<text text-anchor=\"middle\" x=\"199\" y=\"-52.8\" font-family=\"Helvetica,sans-Serif\" font-size=\"14.00\" fill=\"#000000\">gini = 0.444</text>\n<text text-anchor=\"middle\" x=\"199\" y=\"-37.8\" font-family=\"Helvetica,sans-Serif\" font-size=\"14.00\" fill=\"#000000\">samples = 3</text>\n<text text-anchor=\"middle\" x=\"199\" y=\"-22.8\" font-family=\"Helvetica,sans-Serif\" font-size=\"14.00\" fill=\"#000000\">value = [1, 2]</text>\n<text text-anchor=\"middle\" x=\"199\" y=\"-7.8\" font-family=\"Helvetica,sans-Serif\" font-size=\"14.00\" fill=\"#000000\">class = malignant</text>\n</g>\n<!-- 5&#45;&gt;12 -->\n<g id=\"edge4\" class=\"edge\">\n<title>5&#45;&gt;12</title>\n<path fill=\"none\" stroke=\"#000000\" d=\"M175.7774,-103.9815C178.6138,-95.4342 181.6088,-86.4086 184.4708,-77.7839\"/>\n<polygon fill=\"#000000\" stroke=\"#000000\" points=\"187.8023,-78.8571 187.63,-68.2637 181.1585,-76.6524 187.8023,-78.8571\"/>\n</g>\n<!-- 3 -->\n<g id=\"node8\" class=\"node\">\n<title>3</title>\n<polygon fill=\"#ea985d\" stroke=\"#000000\" points=\"552.5,-187 441.5,-187 441.5,-104 552.5,-104 552.5,-187\"/>\n<text text-anchor=\"middle\" x=\"497\" y=\"-171.8\" font-family=\"Helvetica,sans-Serif\" font-size=\"14.00\" fill=\"#000000\">Mitoses &lt;= 3.0</text>\n<text text-anchor=\"middle\" x=\"497\" y=\"-156.8\" font-family=\"Helvetica,sans-Serif\" font-size=\"14.00\" fill=\"#000000\">gini = 0.26</text>\n<text text-anchor=\"middle\" x=\"497\" y=\"-141.8\" font-family=\"Helvetica,sans-Serif\" font-size=\"14.00\" fill=\"#000000\">samples = 13</text>\n<text text-anchor=\"middle\" x=\"497\" y=\"-126.8\" font-family=\"Helvetica,sans-Serif\" font-size=\"14.00\" fill=\"#000000\">value = [11, 2]</text>\n<text text-anchor=\"middle\" x=\"497\" y=\"-111.8\" font-family=\"Helvetica,sans-Serif\" font-size=\"14.00\" fill=\"#000000\">class = benign</text>\n</g>\n<!-- 2&#45;&gt;3 -->\n<g id=\"edge7\" class=\"edge\">\n<title>2&#45;&gt;3</title>\n<path fill=\"none\" stroke=\"#000000\" d=\"M506.1035,-222.8796C505.1393,-214.6838 504.1164,-205.9891 503.1178,-197.5013\"/>\n<polygon fill=\"#000000\" stroke=\"#000000\" points=\"506.5619,-196.8206 501.9174,-187.2981 499.6099,-197.6386 506.5619,-196.8206\"/>\n</g>\n<!-- 4 -->\n<g id=\"node11\" class=\"node\">\n<title>4</title>\n<polygon fill=\"#4ba6e7\" stroke=\"#000000\" points=\"773,-187 571,-187 571,-104 773,-104 773,-187\"/>\n<text text-anchor=\"middle\" x=\"672\" y=\"-171.8\" font-family=\"Helvetica,sans-Serif\" font-size=\"14.00\" fill=\"#000000\">Uniformity of Cell Size &lt;= 4.5</text>\n<text text-anchor=\"middle\" x=\"672\" y=\"-156.8\" font-family=\"Helvetica,sans-Serif\" font-size=\"14.00\" fill=\"#000000\">gini = 0.15</text>\n<text text-anchor=\"middle\" x=\"672\" y=\"-141.8\" font-family=\"Helvetica,sans-Serif\" font-size=\"14.00\" fill=\"#000000\">samples = 172</text>\n<text text-anchor=\"middle\" x=\"672\" y=\"-126.8\" font-family=\"Helvetica,sans-Serif\" font-size=\"14.00\" fill=\"#000000\">value = [14, 158]</text>\n<text text-anchor=\"middle\" x=\"672\" y=\"-111.8\" font-family=\"Helvetica,sans-Serif\" font-size=\"14.00\" fill=\"#000000\">class = malignant</text>\n</g>\n<!-- 2&#45;&gt;4 -->\n<g id=\"edge10\" class=\"edge\">\n<title>2&#45;&gt;4</title>\n<path fill=\"none\" stroke=\"#000000\" d=\"M567.31,-222.8796C580.3012,-213.2774 594.219,-202.9903 607.5277,-193.1534\"/>\n<polygon fill=\"#000000\" stroke=\"#000000\" points=\"609.7604,-195.8555 615.7218,-187.0969 605.5996,-190.2263 609.7604,-195.8555\"/>\n</g>\n<!-- 9 -->\n<g id=\"node9\" class=\"node\">\n<title>9</title>\n<polygon fill=\"#e58139\" stroke=\"#000000\" points=\"421,-68 311,-68 311,0 421,0 421,-68\"/>\n<text text-anchor=\"middle\" x=\"366\" y=\"-52.8\" font-family=\"Helvetica,sans-Serif\" font-size=\"14.00\" fill=\"#000000\">gini = 0.0</text>\n<text text-anchor=\"middle\" x=\"366\" y=\"-37.8\" font-family=\"Helvetica,sans-Serif\" font-size=\"14.00\" fill=\"#000000\">samples = 11</text>\n<text text-anchor=\"middle\" x=\"366\" y=\"-22.8\" font-family=\"Helvetica,sans-Serif\" font-size=\"14.00\" fill=\"#000000\">value = [11, 0]</text>\n<text text-anchor=\"middle\" x=\"366\" y=\"-7.8\" font-family=\"Helvetica,sans-Serif\" font-size=\"14.00\" fill=\"#000000\">class = benign</text>\n</g>\n<!-- 3&#45;&gt;9 -->\n<g id=\"edge8\" class=\"edge\">\n<title>3&#45;&gt;9</title>\n<path fill=\"none\" stroke=\"#000000\" d=\"M448.2204,-103.9815C437.0985,-94.5151 425.2872,-84.462 414.1901,-75.0168\"/>\n<polygon fill=\"#000000\" stroke=\"#000000\" points=\"416.1396,-72.08 406.256,-68.2637 411.6025,-77.4105 416.1396,-72.08\"/>\n</g>\n<!-- 10 -->\n<g id=\"node10\" class=\"node\">\n<title>10</title>\n<polygon fill=\"#399de5\" stroke=\"#000000\" points=\"568.5,-68 439.5,-68 439.5,0 568.5,0 568.5,-68\"/>\n<text text-anchor=\"middle\" x=\"504\" y=\"-52.8\" font-family=\"Helvetica,sans-Serif\" font-size=\"14.00\" fill=\"#000000\">gini = 0.0</text>\n<text text-anchor=\"middle\" x=\"504\" y=\"-37.8\" font-family=\"Helvetica,sans-Serif\" font-size=\"14.00\" fill=\"#000000\">samples = 2</text>\n<text text-anchor=\"middle\" x=\"504\" y=\"-22.8\" font-family=\"Helvetica,sans-Serif\" font-size=\"14.00\" fill=\"#000000\">value = [0, 2]</text>\n<text text-anchor=\"middle\" x=\"504\" y=\"-7.8\" font-family=\"Helvetica,sans-Serif\" font-size=\"14.00\" fill=\"#000000\">class = malignant</text>\n</g>\n<!-- 3&#45;&gt;10 -->\n<g id=\"edge9\" class=\"edge\">\n<title>3&#45;&gt;10</title>\n<path fill=\"none\" stroke=\"#000000\" d=\"M499.6065,-103.9815C500.1316,-95.618 500.6854,-86.7965 501.2163,-78.3409\"/>\n<polygon fill=\"#000000\" stroke=\"#000000\" points=\"504.7154,-78.4634 501.8489,-68.2637 497.7291,-78.0247 504.7154,-78.4634\"/>\n</g>\n<!-- 7 -->\n<g id=\"node12\" class=\"node\">\n<title>7</title>\n<polygon fill=\"#7fc0ee\" stroke=\"#000000\" points=\"729.5,-68 600.5,-68 600.5,0 729.5,0 729.5,-68\"/>\n<text text-anchor=\"middle\" x=\"665\" y=\"-52.8\" font-family=\"Helvetica,sans-Serif\" font-size=\"14.00\" fill=\"#000000\">gini = 0.386</text>\n<text text-anchor=\"middle\" x=\"665\" y=\"-37.8\" font-family=\"Helvetica,sans-Serif\" font-size=\"14.00\" fill=\"#000000\">samples = 46</text>\n<text text-anchor=\"middle\" x=\"665\" y=\"-22.8\" font-family=\"Helvetica,sans-Serif\" font-size=\"14.00\" fill=\"#000000\">value = [12, 34]</text>\n<text text-anchor=\"middle\" x=\"665\" y=\"-7.8\" font-family=\"Helvetica,sans-Serif\" font-size=\"14.00\" fill=\"#000000\">class = malignant</text>\n</g>\n<!-- 4&#45;&gt;7 -->\n<g id=\"edge11\" class=\"edge\">\n<title>4&#45;&gt;7</title>\n<path fill=\"none\" stroke=\"#000000\" d=\"M669.3935,-103.9815C668.8684,-95.618 668.3146,-86.7965 667.7837,-78.3409\"/>\n<polygon fill=\"#000000\" stroke=\"#000000\" points=\"671.2709,-78.0247 667.1511,-68.2637 664.2846,-78.4634 671.2709,-78.0247\"/>\n</g>\n<!-- 8 -->\n<g id=\"node13\" class=\"node\">\n<title>8</title>\n<polygon fill=\"#3c9fe5\" stroke=\"#000000\" points=\"876.5,-68 747.5,-68 747.5,0 876.5,0 876.5,-68\"/>\n<text text-anchor=\"middle\" x=\"812\" y=\"-52.8\" font-family=\"Helvetica,sans-Serif\" font-size=\"14.00\" fill=\"#000000\">gini = 0.031</text>\n<text text-anchor=\"middle\" x=\"812\" y=\"-37.8\" font-family=\"Helvetica,sans-Serif\" font-size=\"14.00\" fill=\"#000000\">samples = 126</text>\n<text text-anchor=\"middle\" x=\"812\" y=\"-22.8\" font-family=\"Helvetica,sans-Serif\" font-size=\"14.00\" fill=\"#000000\">value = [2, 124]</text>\n<text text-anchor=\"middle\" x=\"812\" y=\"-7.8\" font-family=\"Helvetica,sans-Serif\" font-size=\"14.00\" fill=\"#000000\">class = malignant</text>\n</g>\n<!-- 4&#45;&gt;8 -->\n<g id=\"edge12\" class=\"edge\">\n<title>4&#45;&gt;8</title>\n<path fill=\"none\" stroke=\"#000000\" d=\"M724.1308,-103.9815C736.1323,-94.4232 748.8848,-84.2668 760.8443,-74.7419\"/>\n<polygon fill=\"#000000\" stroke=\"#000000\" points=\"763.3365,-77.2314 768.9783,-68.2637 758.9756,-71.7558 763.3365,-77.2314\"/>\n</g>\n</g>\n</svg>\n"
          },
          "metadata": {}
        },
        {
          "output_type": "stream",
          "name": "stdout",
          "text": [
            "best parameters of logistic regression :  {'C': 0.1}\n",
            "best_score of logistic regression :  0.975609756097561\n",
            "\n",
            "best parameters of logistic regression with scaled data:  {'C': 1}\n",
            "best_score of logistic regression :  0.975609756097561\n",
            "\n",
            "best parameters of svm :  {'gamma': 0.001, 'C': 1}\n",
            "best_score of svm : 0.975609756097561\n",
            "\n",
            "best parameters of svm with scaled data :  {'gamma': 0.01, 'C': 1}\n",
            "best_score of svm with scaled data: 0.975609756097561\n"
          ]
        }
      ]
    }
  ],
  "metadata": {
    "colab": {
      "collapsed_sections": [],
      "provenance": []
    },
    "kernelspec": {
      "display_name": "Python 3",
      "language": "python",
      "name": "python3"
    },
    "language_info": {
      "codemirror_mode": {
        "name": "ipython",
        "version": 3
      },
      "file_extension": ".py",
      "mimetype": "text/x-python",
      "name": "python",
      "nbconvert_exporter": "python",
      "pygments_lexer": "ipython3",
      "version": "3.8.5"
    }
  },
  "nbformat": 4,
  "nbformat_minor": 0
}